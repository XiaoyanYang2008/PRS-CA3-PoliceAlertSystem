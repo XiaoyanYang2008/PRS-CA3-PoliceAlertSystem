{
 "cells": [
  {
   "cell_type": "code",
   "execution_count": 1,
   "metadata": {},
   "outputs": [
    {
     "name": "stderr",
     "output_type": "stream",
     "text": [
      "/usr/local/lib/python3.6/dist-packages/tensorflow/python/framework/dtypes.py:516: FutureWarning: Passing (type, 1) or '1type' as a synonym of type is deprecated; in a future version of numpy, it will be understood as (type, (1,)) / '(1,)type'.\n",
      "  _np_qint8 = np.dtype([(\"qint8\", np.int8, 1)])\n",
      "/usr/local/lib/python3.6/dist-packages/tensorflow/python/framework/dtypes.py:517: FutureWarning: Passing (type, 1) or '1type' as a synonym of type is deprecated; in a future version of numpy, it will be understood as (type, (1,)) / '(1,)type'.\n",
      "  _np_quint8 = np.dtype([(\"quint8\", np.uint8, 1)])\n",
      "/usr/local/lib/python3.6/dist-packages/tensorflow/python/framework/dtypes.py:518: FutureWarning: Passing (type, 1) or '1type' as a synonym of type is deprecated; in a future version of numpy, it will be understood as (type, (1,)) / '(1,)type'.\n",
      "  _np_qint16 = np.dtype([(\"qint16\", np.int16, 1)])\n",
      "/usr/local/lib/python3.6/dist-packages/tensorflow/python/framework/dtypes.py:519: FutureWarning: Passing (type, 1) or '1type' as a synonym of type is deprecated; in a future version of numpy, it will be understood as (type, (1,)) / '(1,)type'.\n",
      "  _np_quint16 = np.dtype([(\"quint16\", np.uint16, 1)])\n",
      "/usr/local/lib/python3.6/dist-packages/tensorflow/python/framework/dtypes.py:520: FutureWarning: Passing (type, 1) or '1type' as a synonym of type is deprecated; in a future version of numpy, it will be understood as (type, (1,)) / '(1,)type'.\n",
      "  _np_qint32 = np.dtype([(\"qint32\", np.int32, 1)])\n",
      "/usr/local/lib/python3.6/dist-packages/tensorflow/python/framework/dtypes.py:525: FutureWarning: Passing (type, 1) or '1type' as a synonym of type is deprecated; in a future version of numpy, it will be understood as (type, (1,)) / '(1,)type'.\n",
      "  np_resource = np.dtype([(\"resource\", np.ubyte, 1)])\n",
      "/usr/local/lib/python3.6/dist-packages/tensorboard/compat/tensorflow_stub/dtypes.py:541: FutureWarning: Passing (type, 1) or '1type' as a synonym of type is deprecated; in a future version of numpy, it will be understood as (type, (1,)) / '(1,)type'.\n",
      "  _np_qint8 = np.dtype([(\"qint8\", np.int8, 1)])\n",
      "/usr/local/lib/python3.6/dist-packages/tensorboard/compat/tensorflow_stub/dtypes.py:542: FutureWarning: Passing (type, 1) or '1type' as a synonym of type is deprecated; in a future version of numpy, it will be understood as (type, (1,)) / '(1,)type'.\n",
      "  _np_quint8 = np.dtype([(\"quint8\", np.uint8, 1)])\n",
      "/usr/local/lib/python3.6/dist-packages/tensorboard/compat/tensorflow_stub/dtypes.py:543: FutureWarning: Passing (type, 1) or '1type' as a synonym of type is deprecated; in a future version of numpy, it will be understood as (type, (1,)) / '(1,)type'.\n",
      "  _np_qint16 = np.dtype([(\"qint16\", np.int16, 1)])\n",
      "/usr/local/lib/python3.6/dist-packages/tensorboard/compat/tensorflow_stub/dtypes.py:544: FutureWarning: Passing (type, 1) or '1type' as a synonym of type is deprecated; in a future version of numpy, it will be understood as (type, (1,)) / '(1,)type'.\n",
      "  _np_quint16 = np.dtype([(\"quint16\", np.uint16, 1)])\n",
      "/usr/local/lib/python3.6/dist-packages/tensorboard/compat/tensorflow_stub/dtypes.py:545: FutureWarning: Passing (type, 1) or '1type' as a synonym of type is deprecated; in a future version of numpy, it will be understood as (type, (1,)) / '(1,)type'.\n",
      "  _np_qint32 = np.dtype([(\"qint32\", np.int32, 1)])\n",
      "/usr/local/lib/python3.6/dist-packages/tensorboard/compat/tensorflow_stub/dtypes.py:550: FutureWarning: Passing (type, 1) or '1type' as a synonym of type is deprecated; in a future version of numpy, it will be understood as (type, (1,)) / '(1,)type'.\n",
      "  np_resource = np.dtype([(\"resource\", np.ubyte, 1)])\n"
     ]
    }
   ],
   "source": [
    "import os\n",
    "os.environ[\"CUDA_VISIBLE_DEVICES\"]=\"1\"; # for GPU 1.\n",
    "\n",
    "import pandas as pd\n",
    "import matplotlib.pyplot as plt\n",
    "from multiprocessing import  Pool\n",
    "from functools import partial\n",
    "import numpy as np\n",
    "import pickle\n",
    "from tensorflow.keras import Model\n",
    "from tensorflow.keras import Sequential\n",
    "from tensorflow.keras.layers import Activation\n",
    "from tensorflow.keras.layers import AveragePooling1D\n",
    "from tensorflow.keras.layers import BatchNormalization\n",
    "from tensorflow.keras.layers import Conv1D\n",
    "from tensorflow.keras.layers import Dense\n",
    "from tensorflow.keras.layers import Dropout\n",
    "from tensorflow.keras.layers import Flatten\n",
    "from tensorflow.keras.layers import Input\n",
    "from tensorflow.keras.layers import MaxPooling1D"
   ]
  },
  {
   "cell_type": "code",
   "execution_count": 2,
   "metadata": {},
   "outputs": [],
   "source": [
    "f=open('dataTrain_2.pk', 'rb')\n",
    "train_data = pickle.load(f)\n",
    "f.close()\n",
    "f=open('dataValid_2.pk', 'rb')\n",
    "valid_data = pickle.load(f)\n",
    "f.close()"
   ]
  },
  {
   "cell_type": "code",
   "execution_count": 3,
   "metadata": {},
   "outputs": [],
   "source": [
    "X_train= np.array([x for x in train_data['resizeDenoise'].values])\n",
    "X_valid= np.array([x for x in valid_data['resizeDenoise'].values])"
   ]
  },
  {
   "cell_type": "code",
   "execution_count": 4,
   "metadata": {},
   "outputs": [],
   "source": [
    "Y_train= np.array([y for y in train_data['classID'].values])\n",
    "Y_valid= np.array([y for y in valid_data['classID'].values])"
   ]
  },
  {
   "cell_type": "code",
   "execution_count": 5,
   "metadata": {},
   "outputs": [],
   "source": [
    "train_data = None\n",
    "valid_data = None"
   ]
  },
  {
   "cell_type": "code",
   "execution_count": 6,
   "metadata": {},
   "outputs": [
    {
     "name": "stdout",
     "output_type": "stream",
     "text": [
      "89009\n"
     ]
    }
   ],
   "source": [
    "numCols = X_train.shape[1]\n",
    "print(numCols)"
   ]
  },
  {
   "cell_type": "code",
   "execution_count": 7,
   "metadata": {},
   "outputs": [],
   "source": [
    "def createModel():\n",
    "    model = Sequential()\n",
    "    model.add(Conv1D(32, 3, activation='relu', input_shape = (numCols,1)))\n",
    "    model.add(MaxPooling1D(pool_size= 2))\n",
    "    model.add(Dropout(0.2))\n",
    "\n",
    "    model.add(Conv1D(128, 2,activation='relu'))\n",
    "    model.add(MaxPooling1D(pool_size=2))\n",
    "    model.add(Dropout(0.2))\n",
    "\n",
    "    model.add(Conv1D(256, 2,activation='relu'))\n",
    "    model.add(MaxPooling1D(pool_size=2))\n",
    "    model.add(Dropout(0.25))\n",
    "\n",
    "    model.add(Conv1D(256, 2,activation='relu'))\n",
    "#     model.add(Activation('relu'))\n",
    "#     model.add(MaxPooling1D(pool_size= 2))\n",
    "#     model.add(Dropout(0.25))\n",
    "    \n",
    "#     model.add(Conv1D(512,2, activation='relu'))\n",
    "#     model.add(Activation('relu'))\n",
    "    model.add(Flatten())\n",
    "    model.add(Dense(32, activation='relu'))\n",
    "    model.add(Dense(10, activation='softmax'))\n",
    "    return model"
   ]
  },
  {
   "cell_type": "code",
   "execution_count": 13,
   "metadata": {
    "scrolled": true
   },
   "outputs": [
    {
     "name": "stdout",
     "output_type": "stream",
     "text": [
      "Model: \"sequential_1\"\n",
      "_________________________________________________________________\n",
      "Layer (type)                 Output Shape              Param #   \n",
      "=================================================================\n",
      "conv1d_4 (Conv1D)            (None, 89007, 32)         128       \n",
      "_________________________________________________________________\n",
      "max_pooling1d_3 (MaxPooling1 (None, 44503, 32)         0         \n",
      "_________________________________________________________________\n",
      "dropout_3 (Dropout)          (None, 44503, 32)         0         \n",
      "_________________________________________________________________\n",
      "conv1d_5 (Conv1D)            (None, 44502, 128)        8320      \n",
      "_________________________________________________________________\n",
      "max_pooling1d_4 (MaxPooling1 (None, 22251, 128)        0         \n",
      "_________________________________________________________________\n",
      "dropout_4 (Dropout)          (None, 22251, 128)        0         \n",
      "_________________________________________________________________\n",
      "conv1d_6 (Conv1D)            (None, 22250, 256)        65792     \n",
      "_________________________________________________________________\n",
      "max_pooling1d_5 (MaxPooling1 (None, 11125, 256)        0         \n",
      "_________________________________________________________________\n",
      "dropout_5 (Dropout)          (None, 11125, 256)        0         \n",
      "_________________________________________________________________\n",
      "conv1d_7 (Conv1D)            (None, 11124, 256)        131328    \n",
      "_________________________________________________________________\n",
      "flatten_1 (Flatten)          (None, 2847744)           0         \n",
      "_________________________________________________________________\n",
      "dense_2 (Dense)              (None, 32)                91127840  \n",
      "_________________________________________________________________\n",
      "dense_3 (Dense)              (None, 10)                330       \n",
      "=================================================================\n",
      "Total params: 91,333,738\n",
      "Trainable params: 91,333,738\n",
      "Non-trainable params: 0\n",
      "_________________________________________________________________\n"
     ]
    }
   ],
   "source": [
    "model = createModel()\n",
    "# Compile the model\n",
    "model.compile(loss='categorical_crossentropy', metrics=['accuracy'], optimizer='sgd')\n",
    "\n",
    "# Display model architecture summary \n",
    "model.summary()"
   ]
  },
  {
   "cell_type": "code",
   "execution_count": 14,
   "metadata": {},
   "outputs": [],
   "source": [
    "from tensorflow.keras.utils import to_categorical\n",
    "\n",
    "X_train_r = X_train.reshape(X_train.shape[0], numCols, 1)\n",
    "X_valid_r = X_valid.reshape(X_valid.shape[0], numCols, 1)\n",
    "Y_train_r = to_categorical(Y_train)\n",
    "Y_valid_r = to_categorical(Y_valid)"
   ]
  },
  {
   "cell_type": "code",
   "execution_count": 15,
   "metadata": {
    "scrolled": false
   },
   "outputs": [
    {
     "name": "stdout",
     "output_type": "stream",
     "text": [
      "Train on 6286 samples, validate on 1572 samples\n",
      "Epoch 1/20\n",
      "6286/6286 [==============================] - 117s 19ms/sample - loss: 2.1977 - acc: 0.1726 - val_loss: 2.2028 - val_acc: 0.1469\n",
      "Epoch 2/20\n",
      "6286/6286 [==============================] - 117s 19ms/sample - loss: 2.0992 - acc: 0.2192 - val_loss: 2.0819 - val_acc: 0.2449\n",
      "Epoch 3/20\n",
      "6286/6286 [==============================] - 117s 19ms/sample - loss: 1.9921 - acc: 0.2628 - val_loss: 2.1258 - val_acc: 0.2188\n",
      "Epoch 4/20\n",
      "6286/6286 [==============================] - 117s 19ms/sample - loss: 1.8507 - acc: 0.3366 - val_loss: 2.1203 - val_acc: 0.2354\n",
      "Epoch 5/20\n",
      "6286/6286 [==============================] - 117s 19ms/sample - loss: 1.6727 - acc: 0.4104 - val_loss: 2.1430 - val_acc: 0.2487\n",
      "Epoch 6/20\n",
      "6286/6286 [==============================] - 117s 19ms/sample - loss: 1.4471 - acc: 0.4983 - val_loss: 2.2406 - val_acc: 0.2805\n",
      "Epoch 7/20\n",
      "6286/6286 [==============================] - 117s 19ms/sample - loss: 1.2799 - acc: 0.5810 - val_loss: 2.5836 - val_acc: 0.2716\n",
      "Epoch 8/20\n",
      "6286/6286 [==============================] - 117s 19ms/sample - loss: 1.0926 - acc: 0.6454 - val_loss: 3.0096 - val_acc: 0.2780\n",
      "Epoch 9/20\n",
      "6286/6286 [==============================] - 117s 19ms/sample - loss: 0.9452 - acc: 0.6992 - val_loss: 3.3767 - val_acc: 0.2538\n",
      "Epoch 10/20\n",
      "6286/6286 [==============================] - 117s 19ms/sample - loss: 0.8679 - acc: 0.7428 - val_loss: 2.8492 - val_acc: 0.2570\n",
      "Epoch 11/20\n",
      "6286/6286 [==============================] - 117s 19ms/sample - loss: 0.7586 - acc: 0.7704 - val_loss: 5.7144 - val_acc: 0.2017\n",
      "Epoch 12/20\n",
      "6286/6286 [==============================] - 136s 22ms/sample - loss: 0.9867 - acc: 0.7081 - val_loss: 3.3766 - val_acc: 0.2939\n",
      "Epoch 13/20\n",
      "6286/6286 [==============================] - 151s 24ms/sample - loss: 0.7049 - acc: 0.8115 - val_loss: 3.4246 - val_acc: 0.2945\n",
      "Epoch 14/20\n",
      "6286/6286 [==============================] - 117s 19ms/sample - loss: 0.4604 - acc: 0.8688 - val_loss: 4.1886 - val_acc: 0.2824\n",
      "Epoch 15/20\n",
      "6286/6286 [==============================] - 127s 20ms/sample - loss: 0.7146 - acc: 0.8178 - val_loss: 3.7568 - val_acc: 0.2844\n",
      "Epoch 16/20\n",
      "6286/6286 [==============================] - 126s 20ms/sample - loss: 0.4705 - acc: 0.8727 - val_loss: 3.4523 - val_acc: 0.2894\n",
      "Epoch 17/20\n",
      "6286/6286 [==============================] - 119s 19ms/sample - loss: 0.3545 - acc: 0.9127 - val_loss: 4.5744 - val_acc: 0.2894\n",
      "Epoch 18/20\n",
      "6286/6286 [==============================] - 117s 19ms/sample - loss: 0.3519 - acc: 0.9178 - val_loss: 4.6965 - val_acc: 0.3028\n",
      "Epoch 19/20\n",
      "6286/6286 [==============================] - 117s 19ms/sample - loss: 0.3441 - acc: 0.9270 - val_loss: 4.8592 - val_acc: 0.2538\n",
      "Epoch 20/20\n",
      "6286/6286 [==============================] - 117s 19ms/sample - loss: 0.1992 - acc: 0.9508 - val_loss: 5.9511 - val_acc: 0.2672\n"
     ]
    }
   ],
   "source": [
    "history = model.fit(X_train_r,\n",
    "                      Y_train_r,\n",
    "                      validation_data = (X_valid_r, \n",
    "                      Y_valid_r),\n",
    "                      batch_size=12,\n",
    "                      epochs=20)"
   ]
  },
  {
   "cell_type": "code",
   "execution_count": 16,
   "metadata": {},
   "outputs": [],
   "source": [
    "f=open('dataTest_2.pk', 'rb')\n",
    "test_data = pickle.load(f)\n",
    "f.close()"
   ]
  },
  {
   "cell_type": "code",
   "execution_count": 18,
   "metadata": {},
   "outputs": [],
   "source": [
    "X_test= np.array([x for x in test_data['resizeDenoise'].values])\n",
    "Y_test= np.array([y for y in test_data['classID'].values])\n",
    "X_test_r = X_test.reshape(X_test.shape[0], numCols, 1)"
   ]
  },
  {
   "cell_type": "code",
   "execution_count": 19,
   "metadata": {},
   "outputs": [],
   "source": [
    "pred = model.predict(X_test_r)"
   ]
  },
  {
   "cell_type": "code",
   "execution_count": 20,
   "metadata": {},
   "outputs": [],
   "source": [
    "label_names = ['air_conditioner','car_horn', 'children_playing', 'dog_bark', \n",
    "               'drilling', 'engine_idling', 'gun_shot', 'jackhammer','siren','street_music']"
   ]
  },
  {
   "cell_type": "code",
   "execution_count": 21,
   "metadata": {},
   "outputs": [
    {
     "name": "stdout",
     "output_type": "stream",
     "text": [
      "Test result: \n",
      "Batch size is: 12\n",
      "Best accuracy (on test data set): 24.37%\n",
      "                  precision    recall  f1-score   support\n",
      "\n",
      " air_conditioner     0.3433    0.2347    0.2788        98\n",
      "        car_horn     0.1212    0.2162    0.1553        37\n",
      "children_playing     0.1810    0.2100    0.1944       100\n",
      "        dog_bark     0.2857    0.3232    0.3033        99\n",
      "        drilling     0.2000    0.1111    0.1429       108\n",
      "   engine_idling     0.5714    0.1250    0.2051        96\n",
      "        gun_shot     0.6875    0.6471    0.6667        34\n",
      "      jackhammer     0.2189    0.4190    0.2876       105\n",
      "           siren     0.1605    0.1512    0.1557        86\n",
      "    street_music     0.2203    0.2342    0.2271       111\n",
      "\n",
      "        accuracy                         0.2437       874\n",
      "       macro avg     0.2990    0.2672    0.2617       874\n",
      "    weighted avg     0.2810    0.2437    0.2393       874\n",
      "\n",
      "[[23  3 18  6  9  1  0 27  5  6]\n",
      " [ 2  8  4  2  2  1  5  8  1  4]\n",
      " [ 6  5 21 15  8  0  1 14 17 13]\n",
      " [ 1 10 15 32 11  0  2  6 11 11]\n",
      " [ 1 11 17 16 12  0  0 24 10 17]\n",
      " [18  7 14  4  2 12  1 20  3 15]\n",
      " [ 1  2  0  3  1  2 22  3  0  0]\n",
      " [ 3  8  6  9  6  0  1 44  9 19]\n",
      " [ 5  4 14 19  5  1  0 18 13  7]\n",
      " [ 7  8  7  6  4  4  0 37 12 26]]\n"
     ]
    }
   ],
   "source": [
    "import sklearn.metrics as metrics\n",
    "predout = np.argmax(pred, axis=1)\n",
    "testout = Y_test\n",
    "print(\"Test result: \")\n",
    "print('Batch size is:', 12)\n",
    "\n",
    "testScores = metrics.accuracy_score(testout, predout)\n",
    "confusion = metrics.confusion_matrix(testout, predout)\n",
    "print(\"Best accuracy (on test data set): %.2f%%\" % (testScores * 100))\n",
    "print(metrics.classification_report(testout, predout, labels=[0,1,2,3,4,5,6,7,8,9],target_names=label_names, digits=4))\n",
    "print(confusion)"
   ]
  },
  {
   "cell_type": "code",
   "execution_count": 22,
   "metadata": {},
   "outputs": [
    {
     "name": "stdout",
     "output_type": "stream",
     "text": [
      "dict_keys(['loss', 'acc', 'val_loss', 'val_acc'])\n"
     ]
    },
    {
     "data": {
      "image/png": "[encoded data removed]",
      "text/plain": [
       "<Figure size 432x288 with 1 Axes>"
      ]
     },
     "metadata": {
      "needs_background": "light"
     },
     "output_type": "display_data"
    },
    {
     "data": {
      "image/png": "[encoded data removed]",
      "text/plain": [
       "<Figure size 432x288 with 1 Axes>"
      ]
     },
     "metadata": {
      "needs_background": "light"
     },
     "output_type": "display_data"
    }
   ],
   "source": [
    "# list all data in history\n",
    "print(history.history.keys())\n",
    "# summarize history for accuracy\n",
    "plt.plot(history.history['acc'])\n",
    "plt.plot(history.history['val_acc'])\n",
    "plt.title('model accuracy')\n",
    "plt.ylabel('accuracy')\n",
    "plt.xlabel('epoch')\n",
    "plt.legend(['train', 'test'], loc='upper left')\n",
    "plt.show()\n",
    "# summarize history for loss\n",
    "plt.plot(history.history['loss'])\n",
    "plt.plot(history.history['val_loss'])\n",
    "plt.title('model loss')\n",
    "plt.ylabel('loss')\n",
    "plt.xlabel('epoch')\n",
    "plt.legend(['train', 'test'], loc='upper left')\n",
    "plt.show()"
   ]
  },
  {
   "cell_type": "code",
   "execution_count": 124,
   "metadata": {},
   "outputs": [],
   "source": []
  },
  {
   "cell_type": "code",
   "execution_count": null,
   "metadata": {},
   "outputs": [],
   "source": []
  }
 ],
 "metadata": {
  "kernelspec": {
   "display_name": "Python 3",
   "language": "python",
   "name": "python3"
  },
  "language_info": {
   "codemirror_mode": {
    "name": "ipython",
    "version": 3
   },
   "file_extension": ".py",
   "mimetype": "text/x-python",
   "name": "python",
   "nbconvert_exporter": "python",
   "pygments_lexer": "ipython3",
   "version": "3.6.8"
  }
 },
 "nbformat": 4,
 "nbformat_minor": 2
}
