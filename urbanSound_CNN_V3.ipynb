{
 "cells": [
  {
   "cell_type": "code",
   "execution_count": 1,
   "metadata": {},
   "outputs": [
    {
     "name": "stderr",
     "output_type": "stream",
     "text": [
      "/usr/local/lib/python3.6/dist-packages/tensorflow/python/framework/dtypes.py:516: FutureWarning: Passing (type, 1) or '1type' as a synonym of type is deprecated; in a future version of numpy, it will be understood as (type, (1,)) / '(1,)type'.\n",
      "  _np_qint8 = np.dtype([(\"qint8\", np.int8, 1)])\n",
      "/usr/local/lib/python3.6/dist-packages/tensorflow/python/framework/dtypes.py:517: FutureWarning: Passing (type, 1) or '1type' as a synonym of type is deprecated; in a future version of numpy, it will be understood as (type, (1,)) / '(1,)type'.\n",
      "  _np_quint8 = np.dtype([(\"quint8\", np.uint8, 1)])\n",
      "/usr/local/lib/python3.6/dist-packages/tensorflow/python/framework/dtypes.py:518: FutureWarning: Passing (type, 1) or '1type' as a synonym of type is deprecated; in a future version of numpy, it will be understood as (type, (1,)) / '(1,)type'.\n",
      "  _np_qint16 = np.dtype([(\"qint16\", np.int16, 1)])\n",
      "/usr/local/lib/python3.6/dist-packages/tensorflow/python/framework/dtypes.py:519: FutureWarning: Passing (type, 1) or '1type' as a synonym of type is deprecated; in a future version of numpy, it will be understood as (type, (1,)) / '(1,)type'.\n",
      "  _np_quint16 = np.dtype([(\"quint16\", np.uint16, 1)])\n",
      "/usr/local/lib/python3.6/dist-packages/tensorflow/python/framework/dtypes.py:520: FutureWarning: Passing (type, 1) or '1type' as a synonym of type is deprecated; in a future version of numpy, it will be understood as (type, (1,)) / '(1,)type'.\n",
      "  _np_qint32 = np.dtype([(\"qint32\", np.int32, 1)])\n",
      "/usr/local/lib/python3.6/dist-packages/tensorflow/python/framework/dtypes.py:525: FutureWarning: Passing (type, 1) or '1type' as a synonym of type is deprecated; in a future version of numpy, it will be understood as (type, (1,)) / '(1,)type'.\n",
      "  np_resource = np.dtype([(\"resource\", np.ubyte, 1)])\n",
      "/usr/local/lib/python3.6/dist-packages/tensorboard/compat/tensorflow_stub/dtypes.py:541: FutureWarning: Passing (type, 1) or '1type' as a synonym of type is deprecated; in a future version of numpy, it will be understood as (type, (1,)) / '(1,)type'.\n",
      "  _np_qint8 = np.dtype([(\"qint8\", np.int8, 1)])\n",
      "/usr/local/lib/python3.6/dist-packages/tensorboard/compat/tensorflow_stub/dtypes.py:542: FutureWarning: Passing (type, 1) or '1type' as a synonym of type is deprecated; in a future version of numpy, it will be understood as (type, (1,)) / '(1,)type'.\n",
      "  _np_quint8 = np.dtype([(\"quint8\", np.uint8, 1)])\n",
      "/usr/local/lib/python3.6/dist-packages/tensorboard/compat/tensorflow_stub/dtypes.py:543: FutureWarning: Passing (type, 1) or '1type' as a synonym of type is deprecated; in a future version of numpy, it will be understood as (type, (1,)) / '(1,)type'.\n",
      "  _np_qint16 = np.dtype([(\"qint16\", np.int16, 1)])\n",
      "/usr/local/lib/python3.6/dist-packages/tensorboard/compat/tensorflow_stub/dtypes.py:544: FutureWarning: Passing (type, 1) or '1type' as a synonym of type is deprecated; in a future version of numpy, it will be understood as (type, (1,)) / '(1,)type'.\n",
      "  _np_quint16 = np.dtype([(\"quint16\", np.uint16, 1)])\n",
      "/usr/local/lib/python3.6/dist-packages/tensorboard/compat/tensorflow_stub/dtypes.py:545: FutureWarning: Passing (type, 1) or '1type' as a synonym of type is deprecated; in a future version of numpy, it will be understood as (type, (1,)) / '(1,)type'.\n",
      "  _np_qint32 = np.dtype([(\"qint32\", np.int32, 1)])\n",
      "/usr/local/lib/python3.6/dist-packages/tensorboard/compat/tensorflow_stub/dtypes.py:550: FutureWarning: Passing (type, 1) or '1type' as a synonym of type is deprecated; in a future version of numpy, it will be understood as (type, (1,)) / '(1,)type'.\n",
      "  np_resource = np.dtype([(\"resource\", np.ubyte, 1)])\n"
     ]
    }
   ],
   "source": [
    "import os\n",
    "os.environ[\"CUDA_VISIBLE_DEVICES\"]=\"1\"; # for GPU 1.\n",
    "\n",
    "import pandas as pd\n",
    "import matplotlib.pyplot as plt\n",
    "from multiprocessing import  Pool\n",
    "from functools import partial\n",
    "import numpy as np\n",
    "import pickle\n",
    "from tensorflow.keras import Model\n",
    "from tensorflow.keras import Sequential\n",
    "from tensorflow.keras.layers import Activation\n",
    "from tensorflow.keras.layers import AveragePooling1D\n",
    "from tensorflow.keras.layers import BatchNormalization\n",
    "from tensorflow.keras.layers import Conv1D\n",
    "from tensorflow.keras.layers import Dense\n",
    "from tensorflow.keras.layers import Dropout\n",
    "from tensorflow.keras.layers import Flatten\n",
    "from tensorflow.keras.layers import Input\n",
    "from tensorflow.keras.layers import MaxPooling1D"
   ]
  },
  {
   "cell_type": "code",
   "execution_count": 2,
   "metadata": {},
   "outputs": [],
   "source": [
    "f=open('dataTrain_2.pk', 'rb')\n",
    "train_data = pickle.load(f)\n",
    "f.close()\n",
    "f=open('dataValid_2.pk', 'rb')\n",
    "valid_data = pickle.load(f)\n",
    "f.close()"
   ]
  },
  {
   "cell_type": "code",
   "execution_count": 3,
   "metadata": {},
   "outputs": [],
   "source": [
    "X_train= np.array([x for x in train_data['resizeDenoise'].values])\n",
    "X_valid= np.array([x for x in valid_data['resizeDenoise'].values])"
   ]
  },
  {
   "cell_type": "code",
   "execution_count": 4,
   "metadata": {},
   "outputs": [],
   "source": [
    "Y_train= np.array([y for y in train_data['classID'].values])\n",
    "Y_valid= np.array([y for y in valid_data['classID'].values])"
   ]
  },
  {
   "cell_type": "code",
   "execution_count": 5,
   "metadata": {},
   "outputs": [],
   "source": [
    "train_data = None\n",
    "valid_data = None"
   ]
  },
  {
   "cell_type": "code",
   "execution_count": 6,
   "metadata": {
    "scrolled": true
   },
   "outputs": [
    {
     "name": "stdout",
     "output_type": "stream",
     "text": [
      "89009\n"
     ]
    }
   ],
   "source": [
    "numCols = X_train.shape[1]\n",
    "print(numCols)"
   ]
  },
  {
   "cell_type": "code",
   "execution_count": 7,
   "metadata": {},
   "outputs": [
    {
     "data": {
      "text/plain": [
       "(6286, 89009)"
      ]
     },
     "execution_count": 7,
     "metadata": {},
     "output_type": "execute_result"
    }
   ],
   "source": [
    "X_train.shape"
   ]
  },
  {
   "cell_type": "code",
   "execution_count": 8,
   "metadata": {},
   "outputs": [],
   "source": [
    "def createModel():\n",
    "    model = Sequential()\n",
    "    model.add(Conv1D(32, 32, activation='relu', input_shape = (numCols,1)))\n",
    "    model.add(MaxPooling1D(pool_size= 32))\n",
    "    model.add(Dropout(0.2))\n",
    "\n",
    "    model.add(Conv1D(128, 32,activation='relu'))\n",
    "    model.add(MaxPooling1D(pool_size=16))\n",
    "    model.add(Dropout(0.2))\n",
    "\n",
    "    model.add(Conv1D(256, 32,activation='relu'))\n",
    "    model.add(MaxPooling1D(pool_size=8))\n",
    "    model.add(Dropout(0.25))\n",
    "\n",
    "    model.add(Conv1D(256, 12,activation='relu'))\n",
    "\n",
    "    model.add(Flatten())\n",
    "    model.add(Dense(32, activation='relu'))\n",
    "    model.add(Dense(10, activation='softmax'))\n",
    "    return model"
   ]
  },
  {
   "cell_type": "code",
   "execution_count": 9,
   "metadata": {
    "scrolled": true
   },
   "outputs": [
    {
     "name": "stdout",
     "output_type": "stream",
     "text": [
      "WARNING:tensorflow:From /usr/local/lib/python3.6/dist-packages/tensorflow/python/ops/init_ops.py:1251: calling VarianceScaling.__init__ (from tensorflow.python.ops.init_ops) with dtype is deprecated and will be removed in a future version.\n",
      "Instructions for updating:\n",
      "Call initializer instance with the dtype argument instead of passing it to the constructor\n",
      "Model: \"sequential\"\n",
      "_________________________________________________________________\n",
      "Layer (type)                 Output Shape              Param #   \n",
      "=================================================================\n",
      "conv1d (Conv1D)              (None, 88978, 32)         1056      \n",
      "_________________________________________________________________\n",
      "max_pooling1d (MaxPooling1D) (None, 2780, 32)          0         \n",
      "_________________________________________________________________\n",
      "dropout (Dropout)            (None, 2780, 32)          0         \n",
      "_________________________________________________________________\n",
      "conv1d_1 (Conv1D)            (None, 2749, 128)         131200    \n",
      "_________________________________________________________________\n",
      "max_pooling1d_1 (MaxPooling1 (None, 171, 128)          0         \n",
      "_________________________________________________________________\n",
      "dropout_1 (Dropout)          (None, 171, 128)          0         \n",
      "_________________________________________________________________\n",
      "conv1d_2 (Conv1D)            (None, 140, 256)          1048832   \n",
      "_________________________________________________________________\n",
      "max_pooling1d_2 (MaxPooling1 (None, 17, 256)           0         \n",
      "_________________________________________________________________\n",
      "dropout_2 (Dropout)          (None, 17, 256)           0         \n",
      "_________________________________________________________________\n",
      "conv1d_3 (Conv1D)            (None, 6, 256)            786688    \n",
      "_________________________________________________________________\n",
      "flatten (Flatten)            (None, 1536)              0         \n",
      "_________________________________________________________________\n",
      "dense (Dense)                (None, 32)                49184     \n",
      "_________________________________________________________________\n",
      "dense_1 (Dense)              (None, 10)                330       \n",
      "=================================================================\n",
      "Total params: 2,017,290\n",
      "Trainable params: 2,017,290\n",
      "Non-trainable params: 0\n",
      "_________________________________________________________________\n"
     ]
    }
   ],
   "source": [
    "model = createModel()\n",
    "# Compile the model\n",
    "model.compile(loss='categorical_crossentropy', metrics=['accuracy'], optimizer='sgd')\n",
    "\n",
    "# Display model architecture summary \n",
    "model.summary()"
   ]
  },
  {
   "cell_type": "code",
   "execution_count": 10,
   "metadata": {},
   "outputs": [],
   "source": [
    "from tensorflow.keras.utils import to_categorical\n",
    "\n",
    "X_train_r = X_train.reshape(X_train.shape[0], numCols, 1)\n",
    "X_valid_r = X_valid.reshape(X_valid.shape[0], numCols, 1)\n",
    "Y_train_r = to_categorical(Y_train)\n",
    "Y_valid_r = to_categorical(Y_valid)"
   ]
  },
  {
   "cell_type": "code",
   "execution_count": 11,
   "metadata": {
    "scrolled": false
   },
   "outputs": [
    {
     "name": "stdout",
     "output_type": "stream",
     "text": [
      "Train on 6286 samples, validate on 1572 samples\n",
      "Epoch 1/50\n",
      "6286/6286 [==============================] - 24s 4ms/sample - loss: 2.2378 - acc: 0.1454 - val_loss: 2.1954 - val_acc: 0.1705\n",
      "Epoch 2/50\n",
      "6286/6286 [==============================] - 23s 4ms/sample - loss: 2.1527 - acc: 0.1872 - val_loss: 2.1215 - val_acc: 0.1985\n",
      "Epoch 3/50\n",
      "6286/6286 [==============================] - 23s 4ms/sample - loss: 2.0849 - acc: 0.2246 - val_loss: 2.0461 - val_acc: 0.2411\n",
      "Epoch 4/50\n",
      "6286/6286 [==============================] - 23s 4ms/sample - loss: 1.9956 - acc: 0.2566 - val_loss: 1.8890 - val_acc: 0.2888\n",
      "Epoch 5/50\n",
      "6286/6286 [==============================] - 23s 4ms/sample - loss: 1.8740 - acc: 0.3107 - val_loss: 1.8291 - val_acc: 0.3047\n",
      "Epoch 6/50\n",
      "6286/6286 [==============================] - 23s 4ms/sample - loss: 1.7749 - acc: 0.3602 - val_loss: 1.7573 - val_acc: 0.3518\n",
      "Epoch 7/50\n",
      "6286/6286 [==============================] - 23s 4ms/sample - loss: 1.7029 - acc: 0.3820 - val_loss: 1.6808 - val_acc: 0.3861\n",
      "Epoch 8/50\n",
      "6286/6286 [==============================] - 23s 4ms/sample - loss: 1.6455 - acc: 0.4025 - val_loss: 1.6126 - val_acc: 0.4033\n",
      "Epoch 9/50\n",
      "6286/6286 [==============================] - 23s 4ms/sample - loss: 1.5980 - acc: 0.4163 - val_loss: 1.6025 - val_acc: 0.4046\n",
      "Epoch 10/50\n",
      "6286/6286 [==============================] - 23s 4ms/sample - loss: 1.5576 - acc: 0.4360 - val_loss: 1.5816 - val_acc: 0.4294\n",
      "Epoch 11/50\n",
      "6286/6286 [==============================] - 23s 4ms/sample - loss: 1.5230 - acc: 0.4445 - val_loss: 1.5517 - val_acc: 0.4650\n",
      "Epoch 12/50\n",
      "6286/6286 [==============================] - 23s 4ms/sample - loss: 1.4929 - acc: 0.4653 - val_loss: 1.5250 - val_acc: 0.4593\n",
      "Epoch 13/50\n",
      "6286/6286 [==============================] - 23s 4ms/sample - loss: 1.4566 - acc: 0.4763 - val_loss: 1.4800 - val_acc: 0.4593\n",
      "Epoch 14/50\n",
      "6286/6286 [==============================] - 23s 4ms/sample - loss: 1.4129 - acc: 0.4924 - val_loss: 1.5254 - val_acc: 0.4580\n",
      "Epoch 15/50\n",
      "6286/6286 [==============================] - 23s 4ms/sample - loss: 1.3845 - acc: 0.5037 - val_loss: 1.3750 - val_acc: 0.5184\n",
      "Epoch 16/50\n",
      "6286/6286 [==============================] - 23s 4ms/sample - loss: 1.3265 - acc: 0.5250 - val_loss: 1.4272 - val_acc: 0.4796\n",
      "Epoch 17/50\n",
      "6286/6286 [==============================] - 23s 4ms/sample - loss: 1.2769 - acc: 0.5412 - val_loss: 1.4459 - val_acc: 0.5006\n",
      "Epoch 18/50\n",
      "6286/6286 [==============================] - 23s 4ms/sample - loss: 1.2296 - acc: 0.5632 - val_loss: 1.2729 - val_acc: 0.5630\n",
      "Epoch 19/50\n",
      "6286/6286 [==============================] - 23s 4ms/sample - loss: 1.2264 - acc: 0.5740 - val_loss: 1.2904 - val_acc: 0.5617\n",
      "Epoch 20/50\n",
      "6286/6286 [==============================] - 23s 4ms/sample - loss: 1.1681 - acc: 0.5846 - val_loss: 1.2806 - val_acc: 0.5719\n",
      "Epoch 21/50\n",
      "6286/6286 [==============================] - 23s 4ms/sample - loss: 1.1283 - acc: 0.6013 - val_loss: 1.4173 - val_acc: 0.5433\n",
      "Epoch 22/50\n",
      "6286/6286 [==============================] - 23s 4ms/sample - loss: 1.0945 - acc: 0.6179 - val_loss: 1.3955 - val_acc: 0.5178\n",
      "Epoch 23/50\n",
      "6286/6286 [==============================] - 23s 4ms/sample - loss: 1.0551 - acc: 0.6336 - val_loss: 1.2684 - val_acc: 0.5687\n",
      "Epoch 24/50\n",
      "6286/6286 [==============================] - 23s 4ms/sample - loss: 1.0298 - acc: 0.6417 - val_loss: 1.2671 - val_acc: 0.5751\n",
      "Epoch 25/50\n",
      "6286/6286 [==============================] - 23s 4ms/sample - loss: 0.9971 - acc: 0.6535 - val_loss: 1.2964 - val_acc: 0.5477\n",
      "Epoch 26/50\n",
      "6286/6286 [==============================] - 23s 4ms/sample - loss: 0.9700 - acc: 0.6651 - val_loss: 1.2632 - val_acc: 0.5782\n",
      "Epoch 27/50\n",
      "6286/6286 [==============================] - 23s 4ms/sample - loss: 0.9223 - acc: 0.6785 - val_loss: 1.1641 - val_acc: 0.6113\n",
      "Epoch 28/50\n",
      "6286/6286 [==============================] - 23s 4ms/sample - loss: 0.9114 - acc: 0.6766 - val_loss: 1.1214 - val_acc: 0.6342\n",
      "Epoch 29/50\n",
      "6286/6286 [==============================] - 23s 4ms/sample - loss: 0.8701 - acc: 0.6984 - val_loss: 1.1120 - val_acc: 0.6463\n",
      "Epoch 30/50\n",
      "6286/6286 [==============================] - 23s 4ms/sample - loss: 0.8516 - acc: 0.7098 - val_loss: 1.1609 - val_acc: 0.6317\n",
      "Epoch 31/50\n",
      "6286/6286 [==============================] - 23s 4ms/sample - loss: 0.8239 - acc: 0.7162 - val_loss: 1.0829 - val_acc: 0.6686\n",
      "Epoch 32/50\n",
      "6286/6286 [==============================] - 23s 4ms/sample - loss: 0.7927 - acc: 0.7256 - val_loss: 1.1336 - val_acc: 0.6559\n",
      "Epoch 33/50\n",
      "6286/6286 [==============================] - 23s 4ms/sample - loss: 0.7686 - acc: 0.7348 - val_loss: 1.0972 - val_acc: 0.6749\n",
      "Epoch 34/50\n",
      "6286/6286 [==============================] - 23s 4ms/sample - loss: 0.7278 - acc: 0.7444 - val_loss: 1.1364 - val_acc: 0.6552\n",
      "Epoch 35/50\n",
      "6286/6286 [==============================] - 23s 4ms/sample - loss: 0.7216 - acc: 0.7509 - val_loss: 1.1244 - val_acc: 0.6698\n",
      "Epoch 36/50\n",
      "6286/6286 [==============================] - 23s 4ms/sample - loss: 0.6925 - acc: 0.7650 - val_loss: 1.1264 - val_acc: 0.6654\n",
      "Epoch 37/50\n",
      "6286/6286 [==============================] - 23s 4ms/sample - loss: 0.6662 - acc: 0.7728 - val_loss: 1.0295 - val_acc: 0.6889\n",
      "Epoch 38/50\n",
      "6286/6286 [==============================] - 23s 4ms/sample - loss: 0.6667 - acc: 0.7712 - val_loss: 1.0327 - val_acc: 0.7029\n",
      "Epoch 39/50\n",
      "6286/6286 [==============================] - 23s 4ms/sample - loss: 0.6399 - acc: 0.7803 - val_loss: 1.1070 - val_acc: 0.6800\n",
      "Epoch 40/50\n",
      "6286/6286 [==============================] - 23s 4ms/sample - loss: 0.6299 - acc: 0.7884 - val_loss: 1.1473 - val_acc: 0.6590\n",
      "Epoch 41/50\n",
      "6286/6286 [==============================] - 23s 4ms/sample - loss: 0.6095 - acc: 0.7916 - val_loss: 1.1101 - val_acc: 0.6934\n",
      "Epoch 42/50\n",
      "6286/6286 [==============================] - 23s 4ms/sample - loss: 0.5820 - acc: 0.8038 - val_loss: 1.1126 - val_acc: 0.6718\n",
      "Epoch 43/50\n",
      "6286/6286 [==============================] - 23s 4ms/sample - loss: 0.5767 - acc: 0.8070 - val_loss: 1.0776 - val_acc: 0.6978\n",
      "Epoch 44/50\n",
      "6286/6286 [==============================] - 23s 4ms/sample - loss: 0.5481 - acc: 0.8171 - val_loss: 1.1871 - val_acc: 0.6603\n",
      "Epoch 45/50\n",
      "6286/6286 [==============================] - 23s 4ms/sample - loss: 0.5105 - acc: 0.8312 - val_loss: 1.1523 - val_acc: 0.6927\n",
      "Epoch 46/50\n",
      "6286/6286 [==============================] - 23s 4ms/sample - loss: 0.4854 - acc: 0.8350 - val_loss: 1.0871 - val_acc: 0.7125\n",
      "Epoch 47/50\n",
      "6286/6286 [==============================] - 23s 4ms/sample - loss: 0.4981 - acc: 0.8360 - val_loss: 1.6951 - val_acc: 0.6514\n",
      "Epoch 48/50\n",
      "6286/6286 [==============================] - 23s 4ms/sample - loss: 0.4786 - acc: 0.8395 - val_loss: 1.1805 - val_acc: 0.7048\n",
      "Epoch 49/50\n",
      "6286/6286 [==============================] - 23s 4ms/sample - loss: 0.4554 - acc: 0.8508 - val_loss: 1.3117 - val_acc: 0.6921\n",
      "Epoch 50/50\n",
      "6286/6286 [==============================] - 23s 4ms/sample - loss: 0.5836 - acc: 0.8191 - val_loss: 1.1012 - val_acc: 0.7156\n"
     ]
    }
   ],
   "source": [
    "history = model.fit(X_train_r,\n",
    "                      Y_train_r,\n",
    "                      validation_data = (X_valid_r, \n",
    "                      Y_valid_r),\n",
    "                      batch_size=12,\n",
    "                      epochs=50)"
   ]
  },
  {
   "cell_type": "code",
   "execution_count": 12,
   "metadata": {},
   "outputs": [],
   "source": [
    "f=open('dataTest_2.pk', 'rb')\n",
    "test_data = pickle.load(f)\n",
    "f.close()"
   ]
  },
  {
   "cell_type": "code",
   "execution_count": 13,
   "metadata": {},
   "outputs": [],
   "source": [
    "X_test= np.array([x for x in test_data['resizeDenoise'].values])\n",
    "Y_test= np.array([y for y in test_data['classID'].values])\n",
    "X_test_r = X_test.reshape(X_test.shape[0], numCols, 1)"
   ]
  },
  {
   "cell_type": "code",
   "execution_count": 14,
   "metadata": {},
   "outputs": [],
   "source": [
    "pred = model.predict(X_test_r)"
   ]
  },
  {
   "cell_type": "code",
   "execution_count": 15,
   "metadata": {},
   "outputs": [],
   "source": [
    "label_names = ['air_conditioner','car_horn', 'children_playing', 'dog_bark', \n",
    "               'drilling', 'engine_idling', 'gun_shot', 'jackhammer','siren','street_music']"
   ]
  },
  {
   "cell_type": "code",
   "execution_count": 16,
   "metadata": {},
   "outputs": [
    {
     "name": "stdout",
     "output_type": "stream",
     "text": [
      "Test result: \n",
      "Batch size is: 12\n",
      "Best accuracy (on test data set): 71.74%\n",
      "                  precision    recall  f1-score   support\n",
      "\n",
      " air_conditioner     0.7549    0.7857    0.7700        98\n",
      "        car_horn     0.4865    0.4865    0.4865        37\n",
      "children_playing     0.5739    0.6600    0.6140       100\n",
      "        dog_bark     0.8333    0.6061    0.7018        99\n",
      "        drilling     0.7586    0.6111    0.6769       108\n",
      "   engine_idling     0.8791    0.8333    0.8556        96\n",
      "        gun_shot     0.8889    0.9412    0.9143        34\n",
      "      jackhammer     0.8230    0.8857    0.8532       105\n",
      "           siren     0.5478    0.7326    0.6269        86\n",
      "    street_music     0.6792    0.6486    0.6636       111\n",
      "\n",
      "        accuracy                         0.7174       874\n",
      "       macro avg     0.7225    0.7191    0.7163       874\n",
      "    weighted avg     0.7292    0.7174    0.7183       874\n",
      "\n",
      "[[77  0  3  1  4  2  0  3  4  4]\n",
      " [ 0 18  3  2  2  0  1  5  4  2]\n",
      " [ 5  0 66  5  2  0  0  0 12 10]\n",
      " [ 1  5 18 60  1  1  0  0  9  4]\n",
      " [ 6  8  3  2 66  2  2  6  8  5]\n",
      " [ 4  1  2  0  0 80  1  1  3  4]\n",
      " [ 0  0  1  0  0  0 32  0  0  1]\n",
      " [ 1  1  1  0  3  0  0 93  4  2]\n",
      " [ 3  1  5  0  6  3  0  3 63  2]\n",
      " [ 5  3 13  2  3  3  0  2  8 72]]\n"
     ]
    }
   ],
   "source": [
    "import sklearn.metrics as metrics\n",
    "predout = np.argmax(pred, axis=1)\n",
    "testout = Y_test\n",
    "print(\"Test result: \")\n",
    "print('Batch size is:', 12)\n",
    "\n",
    "testScores = metrics.accuracy_score(testout, predout)\n",
    "confusion = metrics.confusion_matrix(testout, predout)\n",
    "print(\"Best accuracy (on test data set): %.2f%%\" % (testScores * 100))\n",
    "print(metrics.classification_report(testout, predout, labels=[0,1,2,3,4,5,6,7,8,9],target_names=label_names, digits=4))\n",
    "print(confusion)"
   ]
  },
  {
   "cell_type": "code",
   "execution_count": 17,
   "metadata": {},
   "outputs": [
    {
     "name": "stdout",
     "output_type": "stream",
     "text": [
      "dict_keys(['loss', 'acc', 'val_loss', 'val_acc'])\n"
     ]
    },
    {
     "data": {
      "image/png": "[encoded data removed]",
      "text/plain": [
       "<Figure size 432x288 with 1 Axes>"
      ]
     },
     "metadata": {
      "needs_background": "light"
     },
     "output_type": "display_data"
    },
    {
     "data": {
      "image/png": "[encoded data removed]",
      "text/plain": [
       "<Figure size 432x288 with 1 Axes>"
      ]
     },
     "metadata": {
      "needs_background": "light"
     },
     "output_type": "display_data"
    }
   ],
   "source": [
    "# list all data in history\n",
    "print(history.history.keys())\n",
    "# summarize history for accuracy\n",
    "plt.plot(history.history['acc'])\n",
    "plt.plot(history.history['val_acc'])\n",
    "plt.title('model accuracy')\n",
    "plt.ylabel('accuracy')\n",
    "plt.xlabel('epoch')\n",
    "plt.legend(['train', 'test'], loc='upper left')\n",
    "plt.show()\n",
    "# summarize history for loss\n",
    "plt.plot(history.history['loss'])\n",
    "plt.plot(history.history['val_loss'])\n",
    "plt.title('model loss')\n",
    "plt.ylabel('loss')\n",
    "plt.xlabel('epoch')\n",
    "plt.legend(['train', 'test'], loc='upper left')\n",
    "plt.show()"
   ]
  },
  {
   "cell_type": "code",
   "execution_count": 124,
   "metadata": {},
   "outputs": [],
   "source": []
  },
  {
   "cell_type": "code",
   "execution_count": null,
   "metadata": {},
   "outputs": [],
   "source": []
  }
 ],
 "metadata": {
  "kernelspec": {
   "display_name": "Python 3",
   "language": "python",
   "name": "python3"
  },
  "language_info": {
   "codemirror_mode": {
    "name": "ipython",
    "version": 3
   },
   "file_extension": ".py",
   "mimetype": "text/x-python",
   "name": "python",
   "nbconvert_exporter": "python",
   "pygments_lexer": "ipython3",
   "version": "3.6.8"
  }
 },
 "nbformat": 4,
 "nbformat_minor": 2
}
